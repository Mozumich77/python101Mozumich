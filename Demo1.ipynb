{
  "nbformat": 4,
  "nbformat_minor": 0,
  "metadata": {
    "colab": {
      "name": "Untitled0.ipynb",
      "provenance": [],
      "authorship_tag": "ABX9TyP302tN07eHX6jM7S9gH8ZW",
      "include_colab_link": true
    },
    "kernelspec": {
      "name": "python3",
      "display_name": "Python 3"
    }
  },
  "cells": [
    {
      "cell_type": "markdown",
      "metadata": {
        "id": "view-in-github",
        "colab_type": "text"
      },
      "source": [
        "<a href=\"https://colab.research.google.com/github/Mozumich77/python101Mozumich/blob/main/Demo1.ipynb\" target=\"_parent\"><img src=\"https://colab.research.google.com/assets/colab-badge.svg\" alt=\"Open In Colab\"/></a>"
      ]
    },
    {
      "cell_type": "code",
      "metadata": {
        "id": "r7C614D3WISo",
        "outputId": "764cd154-47ce-4b3a-df9d-13384135e164",
        "colab": {
          "base_uri": "https://localhost:8080/",
          "height": 34
        }
      },
      "source": [
        "pago15oct = 35000\n",
        "... bono15oct = 7500\n",
        "... \n",
        "... compuGamer = 42000\n",
        "... total = pago15oct + bono15oct\n",
        "... if total < compuGamer:\n",
        "...     print('Esta quincena no sera, tienes: '+ str(total))\n",
        "... elif total == compuGamer:\n",
        "...     print('Pensando que no vas a comer nada hasta la siguiente quincena, te alcanza')\n",
        "... else:\n",
        "...     print('Por supuesto, tienes: '+ str(total))\n"
      ],
      "execution_count": 1,
      "outputs": [
        {
          "output_type": "stream",
          "text": [
            "Por supuesto, tienes: 42500\n"
          ],
          "name": "stdout"
        }
      ]
    }
  ]
}